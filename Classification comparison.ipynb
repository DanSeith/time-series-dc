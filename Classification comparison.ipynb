{
 "cells": [
  {
   "cell_type": "code",
   "execution_count": 2,
   "metadata": {},
   "outputs": [
    {
     "data": {
      "text/plain": [
       "<module 'Figure2plots' from 'C:\\\\Users\\\\codyt\\\\Documents\\\\repos\\\\time-series-dc\\\\Figure2plots.py'>"
      ]
     },
     "execution_count": 2,
     "metadata": {},
     "output_type": "execute_result"
    }
   ],
   "source": [
    "import pandas as pd\n",
    "import os\n",
    "import numpy as np\n",
    "import pickle\n",
    "import json\n",
    "import scipy\n",
    "import matplotlib.pyplot as plt\n",
    "import shutil\n",
    "from skimage.measure import regionprops\n",
    "import cv2 as cv\n",
    "import tensorflow as tf\n",
    "from tensorflow import keras\n",
    "from datetime import datetime\n",
    "import sys\n",
    "import string\n",
    "from PIL import Image\n",
    "from scipy import signal\n",
    "from scipy.interpolate import interp1d\n",
    "from skimage import measure\n",
    "import seaborn as sns\n",
    "from scipy import stats\n",
    "from skimage.draw import rectangle\n",
    "import importlib\n",
    "import splitfolders\n",
    "from scipy.stats import gaussian_kde\n",
    "from matplotlib.pyplot import text\n",
    "\n",
    "\n",
    "import plots\n",
    "import df_utils\n",
    "importlib.reload(df_utils)\n",
    "import features\n",
    "import Figure2plots\n",
    "importlib.reload(Figure2plots)"
   ]
  },
  {
   "cell_type": "code",
   "execution_count": null,
   "metadata": {},
   "outputs": [],
   "source": [
    "df = pd.read_pickle('D://Datasets//FINAL_DF_light')\n",
    "df['idx'] = range(len(df))\n",
    "df = df_utils.filter_df(df,ymax=5,max_ar=1.1,radius_std=3)\n",
    "df = df[(df.cell=='hl60')|(df.cell=='hl60d')]\n",
    "df = df[np.logical_not((df.cell=='hl60')&(df.date=='11-3-20')&(df.run=='0'))]\n",
    "df = df[np.logical_not((df.cell=='hl60')&(df.date=='11-5-20')&(df.run=='3'))]\n",
    "print(len(df))"
   ]
  },
  {
   "cell_type": "code",
   "execution_count": null,
   "metadata": {},
   "outputs": [],
   "source": []
  }
 ],
 "metadata": {
  "kernelspec": {
   "display_name": "Python [conda env:aktwelve]",
   "language": "python",
   "name": "conda-env-aktwelve-py"
  },
  "language_info": {
   "codemirror_mode": {
    "name": "ipython",
    "version": 3
   },
   "file_extension": ".py",
   "mimetype": "text/x-python",
   "name": "python",
   "nbconvert_exporter": "python",
   "pygments_lexer": "ipython3",
   "version": "3.7.9"
  }
 },
 "nbformat": 4,
 "nbformat_minor": 2
}
