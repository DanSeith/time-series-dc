{
 "cells": [
  {
   "cell_type": "code",
   "execution_count": 1,
   "metadata": {},
   "outputs": [
    {
     "data": {
      "text/plain": [
       "<module 'Figure2plots' from 'C:\\\\Users\\\\codyt\\\\Documents\\\\repos\\\\time-series-dc\\\\Figure2plots.py'>"
      ]
     },
     "execution_count": 1,
     "metadata": {},
     "output_type": "execute_result"
    }
   ],
   "source": [
    "import pandas as pd\n",
    "import os\n",
    "import numpy as np\n",
    "import pickle\n",
    "import json\n",
    "import scipy\n",
    "import matplotlib.pyplot as plt\n",
    "import shutil\n",
    "from skimage.measure import regionprops\n",
    "import cv2 as cv\n",
    "import tensorflow as tf\n",
    "from tensorflow import keras\n",
    "from datetime import datetime\n",
    "import sys\n",
    "import string\n",
    "from PIL import Image\n",
    "from scipy import signal\n",
    "from scipy.interpolate import interp1d\n",
    "from skimage import measure\n",
    "import seaborn as sns\n",
    "from scipy import stats\n",
    "from skimage.draw import rectangle\n",
    "import importlib\n",
    "import splitfolders\n",
    "from scipy.stats import gaussian_kde\n",
    "import sklearn\n",
    "from sklearn.model_selection import train_test_split \n",
    "from sklearn.neighbors import KNeighborsClassifier\n",
    "import itertools\n",
    "from sklearn.linear_model import LogisticRegression\n",
    "from sklearn.metrics import roc_auc_score\n",
    "\n",
    "\n",
    "import plots\n",
    "import df_utils\n",
    "importlib.reload(df_utils)\n",
    "import features\n",
    "import Figure2plots\n",
    "importlib.reload(Figure2plots)"
   ]
  },
  {
   "cell_type": "code",
   "execution_count": 2,
   "metadata": {},
   "outputs": [
    {
     "name": "stdout",
     "output_type": "stream",
     "text": [
      "Length prefilter: 2337\n",
      "Length postfilter: 1925\n",
      "1501\n"
     ]
    }
   ],
   "source": [
    "df = pd.read_pickle('D://Datasets//FINAL_DF_light')\n",
    "df = df_utils.filter_df(df,ymax=5,max_ar=1.1,radius_std=3)\n",
    "df = df[(df.cell=='hl60')|(df.cell=='hl60d')]\n",
    "df = df[np.logical_not((df.cell=='hl60')&(df.date=='11-3-20')&(df.run=='0'))]\n",
    "df = df[np.logical_not((df.cell=='hl60')&(df.date=='11-5-20')&(df.run=='3'))]\n",
    "print(len(df))"
   ]
  },
  {
   "cell_type": "code",
   "execution_count": 3,
   "metadata": {},
   "outputs": [
    {
     "data": {
      "text/plain": [
       "Index(['event', 'tf', 'perimeter', 'area', 'circ', 'deform', 'r_um', 'xcm_um',\n",
       "       'yc_um', 'perimeter_cx', 'area_cx', 'circ_cx', 'deform_cx', 'r_um_cx',\n",
       "       'xc_um_el', 'yc_um_el', 'a', 'b', 'aspect', 'r_um_el', 'cell', 'date',\n",
       "       'run', 'r_idx', 'nar1_idx', 'nar2_idx', 'cav_idx', 'out1_idx',\n",
       "       'out2_idx', 'rad', 'nar1_def', 'nar2_def', 'cav1_def', 'r_el',\n",
       "       'nar1_asp', 'nar2_asp', 'cav1_asp', 'nar1_per', 'nar2_per', 'cav1_per',\n",
       "       'nar1_area', 'nar2_area', 'cav1_area', 'nar1_max_arg', 'nar2_max_arg',\n",
       "       'cav1_min_arg', 'x_poly1', 'x_poly2', 'x_poly3', 'region1_dx',\n",
       "       'region1_dt', 'region1_dasp', 'delta_asp', 'v_avg', 'mean_area',\n",
       "       'mean_perimeter', 'mean_aspect', 'r1_slope', 'r2_slope', 'r3_slope',\n",
       "       'r1_int', 'r2_int', 'r3_int'],\n",
       "      dtype='object')"
      ]
     },
     "execution_count": 3,
     "metadata": {},
     "output_type": "execute_result"
    }
   ],
   "source": [
    "df.columns"
   ]
  },
  {
   "cell_type": "code",
   "execution_count": 4,
   "metadata": {},
   "outputs": [
    {
     "name": "stderr",
     "output_type": "stream",
     "text": [
      "C:\\Users\\codyt\\.conda\\envs\\aktwelve\\lib\\site-packages\\seaborn\\distributions.py:2557: FutureWarning: `distplot` is a deprecated function and will be removed in a future version. Please adapt your code to use either `displot` (a figure-level function with similar flexibility) or `histplot` (an axes-level function for histograms).\n",
      "  warnings.warn(msg, FutureWarning)\n",
      "C:\\Users\\codyt\\.conda\\envs\\aktwelve\\lib\\site-packages\\seaborn\\distributions.py:2557: FutureWarning: `distplot` is a deprecated function and will be removed in a future version. Please adapt your code to use either `displot` (a figure-level function with similar flexibility) or `histplot` (an axes-level function for histograms).\n",
      "  warnings.warn(msg, FutureWarning)\n"
     ]
    },
    {
     "data": {
      "text/plain": [
       "<AxesSubplot:xlabel='nar1_asp', ylabel='Density'>"
      ]
     },
     "execution_count": 4,
     "metadata": {},
     "output_type": "execute_result"
    },
    {
     "data": {
      "image/png": "[encoded data removed]",
      "text/plain": [
       "<Figure size 432x288 with 1 Axes>"
      ]
     },
     "metadata": {
      "needs_background": "light"
     },
     "output_type": "display_data"
    }
   ],
   "source": [
    "sns.distplot(df[df.cell=='hl60'].nar1_asp)\n",
    "sns.distplot(df[df.cell=='hl60d'].nar1_asp)"
   ]
  },
  {
   "cell_type": "code",
   "execution_count": 18,
   "metadata": {},
   "outputs": [],
   "source": [
    "feature_list = ['nar1_asp', 'nar2_asp', 'rad']\n",
    "\n",
    "# Extract features\n",
    "x = df[feature_list].to_numpy()\n",
    "y = df.cell.astype('category').cat.codes.to_numpy()\n",
    "\n",
    "# Normalize and standardize first\n",
    "scalar = sklearn.preprocessing.StandardScaler()\n",
    "x_train, x_val, y_train, y_val = train_test_split(x, y, test_size=0.3, random_state=123)\n",
    "\n",
    "# Fit scalar on training, apply transformation to val/test\n",
    "scalar.fit(x_train)\n",
    "x_train = scalar.transform(x_train)\n",
    "x_val = scalar.transform(x_val)\n",
    "\n",
    "x_val, x_test, y_val, y_test = train_test_split(x_val, y_val, test_size=0.5, random_state=123)"
   ]
  },
  {
   "cell_type": "code",
   "execution_count": 19,
   "metadata": {},
   "outputs": [
    {
     "data": {
      "text/plain": [
       "KNeighborsClassifier()"
      ]
     },
     "execution_count": 19,
     "metadata": {},
     "output_type": "execute_result"
    }
   ],
   "source": [
    "clf = KNeighborsClassifier()\n",
    "clf.fit(x_train, y_train.ravel())"
   ]
  },
  {
   "cell_type": "code",
   "execution_count": 20,
   "metadata": {},
   "outputs": [
    {
     "data": {
      "text/plain": [
       "0.6711111111111111"
      ]
     },
     "execution_count": 20,
     "metadata": {},
     "output_type": "execute_result"
    }
   ],
   "source": [
    "clf.score(x_val, y_val)"
   ]
  },
  {
   "cell_type": "code",
   "execution_count": 23,
   "metadata": {},
   "outputs": [
    {
     "data": {
      "text/plain": [
       "'nar1_asp'"
      ]
     },
     "execution_count": 23,
     "metadata": {},
     "output_type": "execute_result"
    }
   ],
   "source": [
    "list(itertools.combinations(feature_list, 1))[0][0]"
   ]
  },
  {
   "cell_type": "code",
   "execution_count": 21,
   "metadata": {
    "scrolled": true
   },
   "outputs": [
    {
     "name": "stdout",
     "output_type": "stream",
     "text": [
      "0.793537281133189\n",
      "['nar2_asp', 'rad', 'r1_slope', 'delta_asp']\n",
      "0.738359201773836\n"
     ]
    }
   ],
   "source": [
    "feature_list = ['nar1_asp', 'nar2_asp', 'rad','r1_slope','delta_asp']\n",
    "label = []\n",
    "score = []\n",
    "auc = []\n",
    "aic = []\n",
    "\n",
    "for i in range(len(feature_list)):\n",
    "    \n",
    "    sub_feats = list(itertools.combinations(feature_list, i+1))\n",
    "    \n",
    "    for j,feats in enumerate(sub_feats):\n",
    "        x = df[list(feats)].to_numpy()\n",
    "        y = df.cell.astype('category').cat.codes.to_numpy()\n",
    "        \n",
    "        # Normalize and standardize first\n",
    "        scalar = sklearn.preprocessing.StandardScaler()\n",
    "        x_train, x_val, y_train, y_val = train_test_split(x, y, test_size=0.3, random_state=123)\n",
    "\n",
    "        # Fit scalar on training, apply transformation to val/test\n",
    "        scalar.fit(x_train)\n",
    "        x_train = scalar.transform(x_train)\n",
    "        x_val = scalar.transform(x_val)\n",
    "        \n",
    "        clf = KNeighborsClassifier(n_neighbors=10)\n",
    "        clf.fit(x_train, y_train.ravel())\n",
    "        \n",
    "        score.append(clf.score(x_val, y_val))\n",
    "        label.append(list(feats))\n",
    "        \n",
    "        auc.append(roc_auc_score(y_val, clf.predict_proba(x_val)[:,1]))\n",
    "        \n",
    "        #y_hat = logreg.predict(x_val)\n",
    "        #resid = y_val - y_hat\n",
    "        #sse = sum(resid**2)\n",
    "        #k= 2\n",
    "        #AIC= 2*k - 2*np.log(sse)\n",
    "        #aic.append(AIC)\n",
    "        \n",
    "print(np.max(auc))\n",
    "print(label[np.argmax(auc)])\n",
    "print(score[np.argmax(auc)])"
   ]
  },
  {
   "cell_type": "code",
   "execution_count": 53,
   "metadata": {},
   "outputs": [
    {
     "data": {
      "text/plain": [
       "array([[1.21066693],\n",
       "       [1.86547244],\n",
       "       [1.11118088],\n",
       "       ...,\n",
       "       [1.70440443],\n",
       "       [1.39108262],\n",
       "       [1.48836547]])"
      ]
     },
     "execution_count": 53,
     "metadata": {},
     "output_type": "execute_result"
    }
   ],
   "source": [
    "df[feature_list[0]].to_numpy().reshape(-1,1)"
   ]
  },
  {
   "cell_type": "code",
   "execution_count": 8,
   "metadata": {},
   "outputs": [],
   "source": [
    "with open('./sklearn_models/feature_list.txt', 'r') as file:\n",
    "    feats = json.load(file)\n",
    "\n",
    "feature_dict = feats\n",
    "feature_list = list(feature_dict)\n",
    "feature_list_cleaned = [feature_dict[i] for i in list(feature_dict.keys())]"
   ]
  },
  {
   "cell_type": "code",
   "execution_count": 9,
   "metadata": {},
   "outputs": [
    {
     "name": "stdout",
     "output_type": "stream",
     "text": [
      "0.7480818414322251\n",
      "nar1_asp\n",
      "0.7161862527716186\n"
     ]
    }
   ],
   "source": [
    "#feature_list = ['nar1_asp', 'nar2_asp','r1_slope','r2_slope','delta_asp']\n",
    "label = []\n",
    "score = []\n",
    "auc = []\n",
    "aic = []\n",
    "\n",
    "for i in range(len(feature_list)):\n",
    "    \n",
    "    \n",
    "    x = df[feature_list[i]].to_numpy()\n",
    "    y = df.cell.astype('category').cat.codes.to_numpy()\n",
    "\n",
    "    # Normalize and standardize first\n",
    "    scalar = sklearn.preprocessing.StandardScaler()\n",
    "    x_train, x_val, y_train, y_val = train_test_split(x.reshape(-1,1), y, test_size=0.3, random_state=123)\n",
    "\n",
    "    # Fit scalar on training, apply transformation to val/test\n",
    "    scalar.fit(x_train)\n",
    "    x_train = scalar.transform(x_train)\n",
    "    x_val = scalar.transform(x_val)\n",
    "\n",
    "    logreg = LogisticRegression()\n",
    "    logreg.fit(x_train,y_train)\n",
    "\n",
    "    score.append(logreg.score(x_val, y_val))\n",
    "    label.append(feature_list[i])\n",
    "\n",
    "    auc.append(roc_auc_score(y_val, logreg.predict_proba(x_val)[:,1]))\n",
    "        \n",
    "    #y_hat = logreg.predict(x_val)\n",
    "    #resid = y_val - y_hat\n",
    "    #sse = sum(resid**2)\n",
    "    #k= 2\n",
    "    #AIC= 2*k - 2*np.log(sse)\n",
    "    #aic.append(AIC)\n",
    "\n",
    "print(np.max(auc))\n",
    "print(label[np.argmax(auc)])\n",
    "print(score[np.argmax(auc)])"
   ]
  },
  {
   "cell_type": "code",
   "execution_count": 10,
   "metadata": {},
   "outputs": [
    {
     "data": {
      "text/plain": [
       "[(0.5720620842572062, 'rad'),\n",
       " (0.7161862527716186, 'nar1_asp'),\n",
       " (0.6940133037694013, 'nar2_asp'),\n",
       " (0.5898004434589801, 'nar1_per'),\n",
       " (0.5742793791574279, 'nar2_per'),\n",
       " (0.6008869179600886, 'nar1_area'),\n",
       " (0.5698447893569845, 'nar2_area'),\n",
       " (0.5920177383592018, 'delta_asp'),\n",
       " (0.70509977827051, 'r1_slope'),\n",
       " (0.6385809312638581, 'r2_slope')]"
      ]
     },
     "execution_count": 10,
     "metadata": {},
     "output_type": "execute_result"
    }
   ],
   "source": [
    "list(zip(np.array(score),np.array(label)))"
   ]
  },
  {
   "cell_type": "code",
   "execution_count": 11,
   "metadata": {},
   "outputs": [
    {
     "data": {
      "text/plain": [
       "['Radius',\n",
       " 'R1 AR',\n",
       " 'R3 AR',\n",
       " 'R1 Per',\n",
       " 'R3 Per',\n",
       " 'R1 Area',\n",
       " 'R3 Area',\n",
       " 'R1-R3 AR',\n",
       " 'R2 Slope',\n",
       " 'R3 Slope']"
      ]
     },
     "execution_count": 11,
     "metadata": {},
     "output_type": "execute_result"
    }
   ],
   "source": [
    "feature_list_cleaned"
   ]
  },
  {
   "cell_type": "code",
   "execution_count": 25,
   "metadata": {},
   "outputs": [
    {
     "name": "stdout",
     "output_type": "stream",
     "text": [
      "0.7754672437536887\n",
      "['nar1_asp', 'rad', 'r1_slope']\n",
      "0.7161862527716186\n"
     ]
    }
   ],
   "source": [
    "feature_list = ['nar1_asp', 'nar2_asp', 'rad','r1_slope','delta_asp']\n",
    "label = []\n",
    "score = []\n",
    "auc = []\n",
    "aic = []\n",
    "\n",
    "for i in range(len(feature_list)):\n",
    "    \n",
    "    sub_feats = list(itertools.combinations(feature_list, i+1))\n",
    "    \n",
    "    for j,feats in enumerate(sub_feats):\n",
    "        x = df[list(feats)].to_numpy()\n",
    "        y = df.cell.astype('category').cat.codes.to_numpy()\n",
    "        \n",
    "        # Normalize and standardize first\n",
    "        scalar = sklearn.preprocessing.StandardScaler()\n",
    "        x_train, x_val, y_train, y_val = train_test_split(x, y, test_size=0.3, random_state=123)\n",
    "\n",
    "        # Fit scalar on training, apply transformation to val/test\n",
    "        scalar.fit(x_train)\n",
    "        x_train = scalar.transform(x_train)\n",
    "        x_val = scalar.transform(x_val)\n",
    "        \n",
    "        logreg = LogisticRegression()\n",
    "        logreg.fit(x_train,y_train)\n",
    "        \n",
    "        score.append(logreg.score(x_val, y_val))\n",
    "        label.append(list(feats))\n",
    "        \n",
    "        auc.append(roc_auc_score(y_val, logreg.predict_proba(x_val)[:,1]))\n",
    "        \n",
    "        #y_hat = logreg.predict(x_val)\n",
    "        #resid = y_val - y_hat\n",
    "        #sse = sum(resid**2)\n",
    "        #k= 2\n",
    "        #AIC= 2*k - 2*np.log(sse)\n",
    "        #aic.append(AIC)\n",
    "\n",
    "print(np.max(auc))\n",
    "print(label[np.argmax(auc)])\n",
    "print(score[np.argmax(auc)])"
   ]
  },
  {
   "cell_type": "code",
   "execution_count": 44,
   "metadata": {},
   "outputs": [
    {
     "data": {
      "text/plain": [
       "array([list(['nar1_asp']), list(['nar2_asp']), list(['rad']),\n",
       "       list(['r1_slope']), list(['delta_asp']),\n",
       "       list(['nar1_asp', 'nar2_asp']), list(['nar1_asp', 'rad']),\n",
       "       list(['nar1_asp', 'r1_slope']), list(['nar1_asp', 'delta_asp']),\n",
       "       list(['nar2_asp', 'rad']), list(['nar2_asp', 'r1_slope']),\n",
       "       list(['nar2_asp', 'delta_asp']), list(['rad', 'r1_slope']),\n",
       "       list(['rad', 'delta_asp']), list(['r1_slope', 'delta_asp']),\n",
       "       list(['nar1_asp', 'nar2_asp', 'rad']),\n",
       "       list(['nar1_asp', 'nar2_asp', 'r1_slope']),\n",
       "       list(['nar1_asp', 'nar2_asp', 'delta_asp']),\n",
       "       list(['nar1_asp', 'rad', 'r1_slope']),\n",
       "       list(['nar1_asp', 'rad', 'delta_asp']),\n",
       "       list(['nar1_asp', 'r1_slope', 'delta_asp']),\n",
       "       list(['nar2_asp', 'rad', 'r1_slope']),\n",
       "       list(['nar2_asp', 'rad', 'delta_asp']),\n",
       "       list(['nar2_asp', 'r1_slope', 'delta_asp']),\n",
       "       list(['rad', 'r1_slope', 'delta_asp']),\n",
       "       list(['nar1_asp', 'nar2_asp', 'rad', 'r1_slope']),\n",
       "       list(['nar1_asp', 'nar2_asp', 'rad', 'delta_asp']),\n",
       "       list(['nar1_asp', 'nar2_asp', 'r1_slope', 'delta_asp']),\n",
       "       list(['nar1_asp', 'rad', 'r1_slope', 'delta_asp']),\n",
       "       list(['nar2_asp', 'rad', 'r1_slope', 'delta_asp']),\n",
       "       list(['nar1_asp', 'nar2_asp', 'rad', 'r1_slope', 'delta_asp'])],\n",
       "      dtype=object)"
      ]
     },
     "execution_count": 44,
     "metadata": {},
     "output_type": "execute_result"
    }
   ],
   "source": [
    "np.array(label)"
   ]
  },
  {
   "cell_type": "code",
   "execution_count": 45,
   "metadata": {},
   "outputs": [
    {
     "data": {
      "text/plain": [
       "[(0.5720620842572062, ['rad']),\n",
       " (0.5920177383592018, ['delta_asp']),\n",
       " (0.6297117516629712, ['rad', 'delta_asp']),\n",
       " (0.6585365853658537, ['nar1_asp', 'nar2_asp', 'rad']),\n",
       " (0.6607538802660754, ['nar1_asp', 'rad', 'delta_asp']),\n",
       " (0.6607538802660754, ['nar1_asp', 'nar2_asp', 'rad', 'delta_asp']),\n",
       " (0.6607538802660754, ['nar2_asp', 'rad', 'delta_asp']),\n",
       " (0.6762749445676275, ['nar2_asp', 'rad']),\n",
       " (0.6784922394678492, ['nar1_asp', 'rad']),\n",
       " (0.6807095343680709, ['nar1_asp', 'delta_asp']),\n",
       " (0.6807095343680709, ['nar1_asp', 'nar2_asp']),\n",
       " (0.6807095343680709, ['r1_slope', 'delta_asp']),\n",
       " (0.6807095343680709, ['nar1_asp', 'nar2_asp', 'delta_asp']),\n",
       " (0.6807095343680709, ['nar2_asp', 'delta_asp']),\n",
       " (0.6940133037694013, ['rad', 'r1_slope', 'delta_asp']),\n",
       " (0.6940133037694013, ['nar2_asp']),\n",
       " (0.7006651884700665, ['nar1_asp', 'nar2_asp', 'r1_slope', 'delta_asp']),\n",
       " (0.7006651884700665, ['nar2_asp', 'r1_slope', 'delta_asp']),\n",
       " (0.7006651884700665, ['nar1_asp', 'nar2_asp', 'r1_slope']),\n",
       " (0.7006651884700665, ['nar1_asp', 'r1_slope', 'delta_asp']),\n",
       " (0.70509977827051, ['r1_slope']),\n",
       " (0.7095343680709535, ['nar1_asp', 'nar2_asp', 'rad', 'r1_slope']),\n",
       " (0.7117516629711752, ['nar1_asp', 'rad', 'r1_slope', 'delta_asp']),\n",
       " (0.7117516629711752,\n",
       "  ['nar1_asp', 'nar2_asp', 'rad', 'r1_slope', 'delta_asp']),\n",
       " (0.7117516629711752, ['nar2_asp', 'rad', 'r1_slope', 'delta_asp']),\n",
       " (0.7117516629711752, ['rad', 'r1_slope']),\n",
       " (0.7139689578713969, ['nar1_asp', 'r1_slope']),\n",
       " (0.7161862527716186, ['nar1_asp', 'rad', 'r1_slope']),\n",
       " (0.7161862527716186, ['nar2_asp', 'rad', 'r1_slope']),\n",
       " (0.7161862527716186, ['nar1_asp']),\n",
       " (0.7250554323725056, ['nar2_asp', 'r1_slope'])]"
      ]
     },
     "execution_count": 45,
     "metadata": {},
     "output_type": "execute_result"
    }
   ],
   "source": [
    "list(zip(np.array(score)[np.argsort(score)],np.array(label)[np.argsort(score)]))"
   ]
  },
  {
   "cell_type": "code",
   "execution_count": 64,
   "metadata": {},
   "outputs": [
    {
     "data": {
      "text/plain": [
       "['nar1_asp', 'rad', 'r1_slope']"
      ]
     },
     "execution_count": 64,
     "metadata": {},
     "output_type": "execute_result"
    }
   ],
   "source": [
    "label[np.argmax(auc)]"
   ]
  },
  {
   "cell_type": "code",
   "execution_count": 65,
   "metadata": {},
   "outputs": [
    {
     "data": {
      "text/plain": [
       "0.6723404255319149"
      ]
     },
     "execution_count": 65,
     "metadata": {},
     "output_type": "execute_result"
    }
   ],
   "source": [
    "score[np.argmax(auc)]"
   ]
  },
  {
   "cell_type": "code",
   "execution_count": null,
   "metadata": {},
   "outputs": [],
   "source": [
    "def knn_search(feats)\n",
    "\n",
    "    # Extract features\n",
    "    x = df[feature_list].to_numpy()\n",
    "    y = df[['y']].to_numpy()\n",
    "\n",
    "    # Normalize and standardize first\n",
    "    scalar = sklearn.preprocessing.StandardScaler()\n",
    "    x_train, x_val, y_train, y_val = train_test_split(x, y, test_size=0.3, random_state=123)\n",
    "\n",
    "    # Fit scalar on training, apply transformation to val/test\n",
    "    scalar.fit(x_train)\n",
    "    x_train = scalar.transform(x_train)\n",
    "    x_val = scalar.transform(x_val)\n",
    "\n",
    "    x_val, x_test, y_val, y_test = train_test_split(x_val, y_val, test_size=0.5, random_state=123)\n",
    "\n",
    "    # Grid search all hyperparameters\n",
    "    leaf_size = list(range(1, 200, 5))\n",
    "    neighbors = np.arange(1, 25)\n",
    "    score = {}\n",
    "    for leaf in leaf_size:\n",
    "        for n in neighbors:\n",
    "            clf = KNeighborsClassifier(n_neighbors=n, leaf_size=leaf)\n",
    "            clf.fit(x_train, y_train.ravel())\n",
    "            score[(str(n), str(leaf))] = clf.score(x_val, y_val)\n",
    "\n",
    "    # Select best weights\n",
    "    n, leaf = max(score, key=lambda key: score[key])\n",
    "\n",
    "    print('Optimized hyper params:')\n",
    "    print('N: ', n, '\\n', 'Leaf size: ', leaf)\n",
    "    clf = KNeighborsClassifier(n_neighbors=int(n), leaf_size=int(leaf))\n",
    "    clf.fit(x_train, y_train.ravel())\n",
    "    print(clf.score(x_test, y_test))\n",
    "\n",
    "    sklearn.metrics.plot_roc_curve(clf, x_test, y_test)\n",
    "    plt.title('k Nearest Neighbors' + ' K: ' + str(n) + ' Leaf Size: ' + str(leaf))\n",
    "    plt.savefig('knn_roc.png', dpi=300)\n",
    "\n",
    "    pickle.dump(clf, open('knn.pkl', 'wb'))"
   ]
  }
 ],
 "metadata": {
  "kernelspec": {
   "display_name": "Python [conda env:aktwelve]",
   "language": "python",
   "name": "conda-env-aktwelve-py"
  },
  "language_info": {
   "codemirror_mode": {
    "name": "ipython",
    "version": 3
   },
   "file_extension": ".py",
   "mimetype": "text/x-python",
   "name": "python",
   "nbconvert_exporter": "python",
   "pygments_lexer": "ipython3",
   "version": "3.7.9"
  }
 },
 "nbformat": 4,
 "nbformat_minor": 2
}
