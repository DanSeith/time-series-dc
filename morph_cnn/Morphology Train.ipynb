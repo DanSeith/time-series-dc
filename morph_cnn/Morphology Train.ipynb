{
 "cells": [
  {
   "cell_type": "code",
   "execution_count": 1,
   "metadata": {},
   "outputs": [],
   "source": [
    "import tensorflow as tf\n",
    "from tensorflow.keras.preprocessing.image import ImageDataGenerator\n",
    "from tensorflow.keras import datasets, layers, models\n",
    "import matplotlib.pyplot as plt\n",
    "import splitfolders"
   ]
  },
  {
   "cell_type": "code",
   "execution_count": 42,
   "metadata": {},
   "outputs": [],
   "source": [
    "data_dir = 'D://cavity_images//mask_bbox//'"
   ]
  },
  {
   "cell_type": "code",
   "execution_count": 43,
   "metadata": {},
   "outputs": [],
   "source": [
    "splitfolders.ratio(data_dir + 'raw', \n",
    "                   output=data_dir + \"output\", \n",
    "                   seed=42, \n",
    "                   ratio=(.7, .2, .1), \n",
    "                   group_prefix=None) # default values"
   ]
  },
  {
   "cell_type": "code",
   "execution_count": 44,
   "metadata": {},
   "outputs": [],
   "source": [
    "batch_size = 32\n",
    "img_height = 80\n",
    "img_width = 80"
   ]
  },
  {
   "cell_type": "code",
   "execution_count": 45,
   "metadata": {},
   "outputs": [],
   "source": [
    "datagen = ImageDataGenerator()"
   ]
  },
  {
   "cell_type": "code",
   "execution_count": 46,
   "metadata": {},
   "outputs": [
    {
     "name": "stdout",
     "output_type": "stream",
     "text": [
      "Found 1031 images belonging to 2 classes.\n",
      "Found 294 images belonging to 2 classes.\n",
      "Found 298 images belonging to 3 classes.\n"
     ]
    }
   ],
   "source": [
    "train_generator = datagen.flow_from_directory(\n",
    "    directory=data_dir+ 'output/train',\n",
    "    target_size=(80,80),\n",
    "    color_mode=\"grayscale\",\n",
    "    batch_size=32,\n",
    "    class_mode=\"binary\",\n",
    "    shuffle=True,\n",
    "    seed=42\n",
    ")\n",
    "valid_generator = datagen.flow_from_directory(\n",
    "    directory=data_dir+ 'output/val',\n",
    "    target_size=(80,80),\n",
    "    color_mode=\"grayscale\",\n",
    "    batch_size=32,\n",
    "    class_mode=\"binary\",\n",
    "    shuffle=True,\n",
    "    seed=42\n",
    ")\n",
    "test_generator = datagen.flow_from_directory(\n",
    "    directory=data_dir+ 'output/test',\n",
    "    target_size=(80,80),\n",
    "    color_mode=\"grayscale\",\n",
    "    batch_size=1,\n",
    "    class_mode=\"binary\",\n",
    "    shuffle=True,\n",
    "    seed=42\n",
    ")"
   ]
  },
  {
   "cell_type": "code",
   "execution_count": 47,
   "metadata": {},
   "outputs": [],
   "source": [
    "STEP_SIZE_TRAIN=train_generator.n//train_generator.batch_size\n",
    "STEP_SIZE_VALID=valid_generator.n//valid_generator.batch_size"
   ]
  },
  {
   "cell_type": "code",
   "execution_count": 48,
   "metadata": {},
   "outputs": [],
   "source": [
    "model = models.Sequential()\n",
    "model.add(layers.Conv2D(16, (3,3), activation='relu', input_shape=(80, 80,1)))\n",
    "model.add(layers.MaxPooling2D(2, 2))\n",
    "model.add(layers.Conv2D(32, (3,3), activation='relu'))\n",
    "model.add(layers.MaxPooling2D(2,2))\n",
    "model.add(layers.Conv2D(64, (3,3), activation='relu'))\n",
    "model.add(layers.Conv2D(64, (3,3), activation='relu'))\n",
    "model.add(layers.Conv2D(64, (3,3), activation='relu'))\n",
    "model.add(layers.MaxPooling2D(2,2))\n",
    "model.add(layers.Flatten())\n",
    "model.add(layers.Dense(512, activation='relu'))\n",
    "model.add(layers.Dense(1, activation='sigmoid'))"
   ]
  },
  {
   "cell_type": "code",
   "execution_count": 49,
   "metadata": {
    "scrolled": true
   },
   "outputs": [
    {
     "name": "stdout",
     "output_type": "stream",
     "text": [
      "Model: \"sequential_3\"\n",
      "_________________________________________________________________\n",
      "Layer (type)                 Output Shape              Param #   \n",
      "=================================================================\n",
      "conv2d_15 (Conv2D)           (None, 78, 78, 16)        160       \n",
      "_________________________________________________________________\n",
      "max_pooling2d_9 (MaxPooling2 (None, 39, 39, 16)        0         \n",
      "_________________________________________________________________\n",
      "conv2d_16 (Conv2D)           (None, 37, 37, 32)        4640      \n",
      "_________________________________________________________________\n",
      "max_pooling2d_10 (MaxPooling (None, 18, 18, 32)        0         \n",
      "_________________________________________________________________\n",
      "conv2d_17 (Conv2D)           (None, 16, 16, 64)        18496     \n",
      "_________________________________________________________________\n",
      "conv2d_18 (Conv2D)           (None, 14, 14, 64)        36928     \n",
      "_________________________________________________________________\n",
      "conv2d_19 (Conv2D)           (None, 12, 12, 64)        36928     \n",
      "_________________________________________________________________\n",
      "max_pooling2d_11 (MaxPooling (None, 6, 6, 64)          0         \n",
      "_________________________________________________________________\n",
      "flatten_3 (Flatten)          (None, 2304)              0         \n",
      "_________________________________________________________________\n",
      "dense_6 (Dense)              (None, 512)               1180160   \n",
      "_________________________________________________________________\n",
      "dense_7 (Dense)              (None, 1)                 513       \n",
      "=================================================================\n",
      "Total params: 1,277,825\n",
      "Trainable params: 1,277,825\n",
      "Non-trainable params: 0\n",
      "_________________________________________________________________\n"
     ]
    }
   ],
   "source": [
    "model.summary()"
   ]
  },
  {
   "cell_type": "code",
   "execution_count": 50,
   "metadata": {},
   "outputs": [],
   "source": [
    "model.compile(optimizer='rmsprop',\n",
    "              loss=tf.keras.losses.BinaryCrossentropy(from_logits=False),\n",
    "              metrics=['accuracy'])"
   ]
  },
  {
   "cell_type": "code",
   "execution_count": 51,
   "metadata": {},
   "outputs": [],
   "source": [
    "checkpoint_dir = './logs/masks'\n",
    "\n",
    "# Create a callback that saves the model's weights\n",
    "cp_callback = tf.keras.callbacks.ModelCheckpoint(filepath=checkpoint_dir,\n",
    "                                                 save_weights_only=True,\n",
    "                                                 monitor='val_accuracy',\n",
    "                                                 mode='max',\n",
    "                                                 save_best_only=True)"
   ]
  },
  {
   "cell_type": "code",
   "execution_count": 52,
   "metadata": {
    "scrolled": true
   },
   "outputs": [
    {
     "name": "stdout",
     "output_type": "stream",
     "text": [
      "Epoch 1/30\n",
      "32/32 [==============================] - 5s 155ms/step - loss: 20.0240 - accuracy: 0.5265 - val_loss: 0.6699 - val_accuracy: 0.5590\n",
      "Epoch 2/30\n",
      "32/32 [==============================] - 0s 14ms/step - loss: 0.8985 - accuracy: 0.5325 - val_loss: 0.6779 - val_accuracy: 0.5347\n",
      "Epoch 3/30\n",
      "32/32 [==============================] - 0s 14ms/step - loss: 0.7016 - accuracy: 0.5606 - val_loss: 0.6431 - val_accuracy: 0.6111\n",
      "Epoch 4/30\n",
      "32/32 [==============================] - 0s 14ms/step - loss: 0.9229 - accuracy: 0.5706 - val_loss: 0.7053 - val_accuracy: 0.5729\n",
      "Epoch 5/30\n",
      "32/32 [==============================] - 0s 14ms/step - loss: 0.8310 - accuracy: 0.5916 - val_loss: 0.7306 - val_accuracy: 0.5660\n",
      "Epoch 6/30\n",
      "32/32 [==============================] - 0s 14ms/step - loss: 0.6708 - accuracy: 0.6126 - val_loss: 0.6630 - val_accuracy: 0.5868\n",
      "Epoch 7/30\n",
      "32/32 [==============================] - 0s 14ms/step - loss: 0.6556 - accuracy: 0.6226 - val_loss: 0.6532 - val_accuracy: 0.6181\n",
      "Epoch 8/30\n",
      "32/32 [==============================] - 0s 14ms/step - loss: 0.6838 - accuracy: 0.6136 - val_loss: 0.8621 - val_accuracy: 0.5382\n",
      "Epoch 9/30\n",
      "32/32 [==============================] - 1s 19ms/step - loss: 0.6381 - accuracy: 0.6456 - val_loss: 0.7159 - val_accuracy: 0.5729\n",
      "Epoch 10/30\n",
      "32/32 [==============================] - 0s 14ms/step - loss: 0.7536 - accuracy: 0.6456 - val_loss: 0.6770 - val_accuracy: 0.6250\n",
      "Epoch 11/30\n",
      "32/32 [==============================] - 0s 15ms/step - loss: 0.5954 - accuracy: 0.6857 - val_loss: 0.7201 - val_accuracy: 0.6250\n",
      "Epoch 12/30\n",
      "32/32 [==============================] - 0s 14ms/step - loss: 0.5692 - accuracy: 0.6997 - val_loss: 0.7227 - val_accuracy: 0.6076\n",
      "Epoch 13/30\n",
      "32/32 [==============================] - 0s 14ms/step - loss: 0.5567 - accuracy: 0.7147 - val_loss: 0.8727 - val_accuracy: 0.5938\n",
      "Epoch 14/30\n",
      "32/32 [==============================] - 0s 15ms/step - loss: 0.5305 - accuracy: 0.7377 - val_loss: 0.7134 - val_accuracy: 0.6111\n",
      "Epoch 15/30\n",
      "32/32 [==============================] - 0s 14ms/step - loss: 0.5156 - accuracy: 0.7698 - val_loss: 0.7559 - val_accuracy: 0.6424\n",
      "Epoch 16/30\n",
      "32/32 [==============================] - 0s 14ms/step - loss: 0.4697 - accuracy: 0.7818 - val_loss: 0.8606 - val_accuracy: 0.6285\n",
      "Epoch 17/30\n",
      "32/32 [==============================] - 0s 14ms/step - loss: 0.4036 - accuracy: 0.8198 - val_loss: 0.8517 - val_accuracy: 0.5938\n",
      "Epoch 18/30\n",
      "32/32 [==============================] - 0s 14ms/step - loss: 0.3975 - accuracy: 0.8248 - val_loss: 0.9427 - val_accuracy: 0.5729\n",
      "Epoch 19/30\n",
      "32/32 [==============================] - 0s 15ms/step - loss: 0.3692 - accuracy: 0.8428 - val_loss: 0.9867 - val_accuracy: 0.5243\n",
      "Epoch 20/30\n",
      "32/32 [==============================] - 0s 14ms/step - loss: 0.3049 - accuracy: 0.8649 - val_loss: 1.1073 - val_accuracy: 0.5451\n",
      "Epoch 21/30\n",
      "32/32 [==============================] - 0s 14ms/step - loss: 0.2686 - accuracy: 0.8879 - val_loss: 1.4568 - val_accuracy: 0.5972\n",
      "Epoch 22/30\n",
      "32/32 [==============================] - 0s 15ms/step - loss: 0.3673 - accuracy: 0.8659 - val_loss: 1.3799 - val_accuracy: 0.5764\n",
      "Epoch 23/30\n",
      "32/32 [==============================] - 0s 14ms/step - loss: 0.2210 - accuracy: 0.9069 - val_loss: 1.5641 - val_accuracy: 0.6042\n",
      "Epoch 24/30\n",
      "32/32 [==============================] - 0s 14ms/step - loss: 0.1930 - accuracy: 0.9279 - val_loss: 1.4872 - val_accuracy: 0.5660\n",
      "Epoch 25/30\n",
      "32/32 [==============================] - 0s 14ms/step - loss: 0.1688 - accuracy: 0.9419 - val_loss: 2.3750 - val_accuracy: 0.5486\n",
      "Epoch 26/30\n",
      "32/32 [==============================] - 0s 15ms/step - loss: 0.1604 - accuracy: 0.9399 - val_loss: 1.8118 - val_accuracy: 0.5799\n",
      "Epoch 27/30\n",
      "32/32 [==============================] - 0s 14ms/step - loss: 0.1299 - accuracy: 0.9520 - val_loss: 2.1966 - val_accuracy: 0.6181\n",
      "Epoch 28/30\n",
      "32/32 [==============================] - 0s 15ms/step - loss: 0.1164 - accuracy: 0.9580 - val_loss: 2.2002 - val_accuracy: 0.5486\n",
      "Epoch 29/30\n",
      "32/32 [==============================] - 0s 15ms/step - loss: 0.1813 - accuracy: 0.9379 - val_loss: 2.5462 - val_accuracy: 0.5035\n",
      "Epoch 30/30\n",
      "32/32 [==============================] - 0s 14ms/step - loss: 0.1006 - accuracy: 0.9570 - val_loss: 2.4111 - val_accuracy: 0.5521\n"
     ]
    }
   ],
   "source": [
    "history = model.fit_generator(generator=train_generator,steps_per_epoch=STEP_SIZE_TRAIN,\n",
    "                   validation_data=valid_generator,\n",
    "                   validation_steps=STEP_SIZE_VALID,\n",
    "                   epochs=30)"
   ]
  },
  {
   "cell_type": "code",
   "execution_count": 55,
   "metadata": {},
   "outputs": [
    {
     "data": {
      "image/png": "[encoded data removed]",
      "text/plain": [
       "<Figure size 432x288 with 1 Axes>"
      ]
     },
     "metadata": {
      "needs_background": "light"
     },
     "output_type": "display_data"
    }
   ],
   "source": [
    "plt.plot(history.history['accuracy'], label='accuracy')\n",
    "plt.plot(history.history['val_accuracy'], label='val_accuracy')\n",
    "plt.xlabel('Epoch')\n",
    "plt.ylabel('Accuracy')\n",
    "plt.ylim([0.5, 1])\n",
    "plt.legend(loc='lower right')\n",
    "plt.savefig('../figures/morphology_train.png')\n",
    "#plt.show()"
   ]
  },
  {
   "cell_type": "code",
   "execution_count": null,
   "metadata": {},
   "outputs": [],
   "source": []
  }
 ],
 "metadata": {
  "kernelspec": {
   "display_name": "Python [conda env:aktwelve]",
   "language": "python",
   "name": "conda-env-aktwelve-py"
  },
  "language_info": {
   "codemirror_mode": {
    "name": "ipython",
    "version": 3
   },
   "file_extension": ".py",
   "mimetype": "text/x-python",
   "name": "python",
   "nbconvert_exporter": "python",
   "pygments_lexer": "ipython3",
   "version": "3.7.9"
  }
 },
 "nbformat": 4,
 "nbformat_minor": 2
}
