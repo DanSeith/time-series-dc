{
 "cells": [
  {
   "cell_type": "code",
   "execution_count": 1,
   "metadata": {},
   "outputs": [],
   "source": [
    "import tensorflow as tf\n",
    "from tensorflow.keras.preprocessing.image import ImageDataGenerator\n",
    "from tensorflow.keras import datasets, layers, models\n",
    "import matplotlib.pyplot as plt\n",
    "import splitfolders\n",
    "import pickle\n",
    "import sys\n",
    "sys.path.append('..')\n",
    "from plot_tools import set_size\n",
    "from SIplots import morph_cnn_plot"
   ]
  },
  {
   "cell_type": "code",
   "execution_count": 2,
   "metadata": {},
   "outputs": [],
   "source": [
    "data_dir = 'D://cavity_images//mask_bbox//'"
   ]
  },
  {
   "cell_type": "code",
   "execution_count": 43,
   "metadata": {},
   "outputs": [],
   "source": [
    "splitfolders.ratio(data_dir + 'raw', \n",
    "                   output=data_dir + \"output\", \n",
    "                   seed=42, \n",
    "                   ratio=(.7, .2, .1), \n",
    "                   group_prefix=None) # default values"
   ]
  },
  {
   "cell_type": "code",
   "execution_count": 3,
   "metadata": {},
   "outputs": [],
   "source": [
    "batch_size = 32\n",
    "img_height = 80\n",
    "img_width = 80"
   ]
  },
  {
   "cell_type": "code",
   "execution_count": 4,
   "metadata": {},
   "outputs": [],
   "source": [
    "datagen = ImageDataGenerator()"
   ]
  },
  {
   "cell_type": "code",
   "execution_count": 5,
   "metadata": {},
   "outputs": [
    {
     "name": "stdout",
     "output_type": "stream",
     "text": [
      "Found 1031 images belonging to 2 classes.\n",
      "Found 294 images belonging to 2 classes.\n",
      "Found 149 images belonging to 2 classes.\n"
     ]
    }
   ],
   "source": [
    "train_generator = datagen.flow_from_directory(\n",
    "    directory=data_dir+ 'output/train',\n",
    "    target_size=(80,80),\n",
    "    color_mode=\"grayscale\",\n",
    "    batch_size=32,\n",
    "    class_mode=\"binary\",\n",
    "    shuffle=True,\n",
    "    seed=42\n",
    ")\n",
    "valid_generator = datagen.flow_from_directory(\n",
    "    directory=data_dir+ 'output/val',\n",
    "    target_size=(80,80),\n",
    "    color_mode=\"grayscale\",\n",
    "    batch_size=32,\n",
    "    class_mode=\"binary\",\n",
    "    shuffle=True,\n",
    "    seed=42\n",
    ")\n",
    "test_generator = datagen.flow_from_directory(\n",
    "    directory=data_dir+ 'output/test',\n",
    "    target_size=(80,80),\n",
    "    color_mode=\"grayscale\",\n",
    "    batch_size=1,\n",
    "    class_mode=\"binary\",\n",
    "    shuffle=True,\n",
    "    seed=42\n",
    ")"
   ]
  },
  {
   "cell_type": "code",
   "execution_count": 6,
   "metadata": {},
   "outputs": [],
   "source": [
    "STEP_SIZE_TRAIN=train_generator.n//train_generator.batch_size\n",
    "STEP_SIZE_VALID=valid_generator.n//valid_generator.batch_size"
   ]
  },
  {
   "cell_type": "code",
   "execution_count": 61,
   "metadata": {},
   "outputs": [],
   "source": [
    "model = models.Sequential()\n",
    "model.add(layers.Conv2D(16, (3,3), activation='relu', input_shape=(80, 80,1)))\n",
    "model.add(layers.MaxPooling2D(2, 2))\n",
    "model.add(layers.Dropout(0.2))\n",
    "model.add(layers.Conv2D(32, (3,3), activation='relu'))\n",
    "model.add(layers.MaxPooling2D(2,2))\n",
    "model.add(layers.Conv2D(64, (3,3), activation='relu'))\n",
    "model.add(layers.Conv2D(64, (3,3), activation='relu'))\n",
    "model.add(layers.Conv2D(64, (3,3), activation='relu'))\n",
    "model.add(layers.MaxPooling2D(2,2))\n",
    "model.add(layers.Flatten())\n",
    "model.add(layers.Dropout(0.2))\n",
    "model.add(layers.Dense(512, activation='relu'))\n",
    "model.add(layers.Dense(1, activation='sigmoid'))"
   ]
  },
  {
   "cell_type": "code",
   "execution_count": 62,
   "metadata": {
    "scrolled": true
   },
   "outputs": [
    {
     "name": "stdout",
     "output_type": "stream",
     "text": [
      "Model: \"sequential_2\"\n",
      "_________________________________________________________________\n",
      "Layer (type)                 Output Shape              Param #   \n",
      "=================================================================\n",
      "conv2d_10 (Conv2D)           (None, 78, 78, 16)        160       \n",
      "_________________________________________________________________\n",
      "max_pooling2d_6 (MaxPooling2 (None, 39, 39, 16)        0         \n",
      "_________________________________________________________________\n",
      "dropout_4 (Dropout)          (None, 39, 39, 16)        0         \n",
      "_________________________________________________________________\n",
      "conv2d_11 (Conv2D)           (None, 37, 37, 32)        4640      \n",
      "_________________________________________________________________\n",
      "max_pooling2d_7 (MaxPooling2 (None, 18, 18, 32)        0         \n",
      "_________________________________________________________________\n",
      "conv2d_12 (Conv2D)           (None, 16, 16, 64)        18496     \n",
      "_________________________________________________________________\n",
      "conv2d_13 (Conv2D)           (None, 14, 14, 64)        36928     \n",
      "_________________________________________________________________\n",
      "conv2d_14 (Conv2D)           (None, 12, 12, 64)        36928     \n",
      "_________________________________________________________________\n",
      "max_pooling2d_8 (MaxPooling2 (None, 6, 6, 64)          0         \n",
      "_________________________________________________________________\n",
      "flatten_2 (Flatten)          (None, 2304)              0         \n",
      "_________________________________________________________________\n",
      "dropout_5 (Dropout)          (None, 2304)              0         \n",
      "_________________________________________________________________\n",
      "dense_4 (Dense)              (None, 512)               1180160   \n",
      "_________________________________________________________________\n",
      "dense_5 (Dense)              (None, 1)                 513       \n",
      "=================================================================\n",
      "Total params: 1,277,825\n",
      "Trainable params: 1,277,825\n",
      "Non-trainable params: 0\n",
      "_________________________________________________________________\n"
     ]
    }
   ],
   "source": [
    "model.summary()"
   ]
  },
  {
   "cell_type": "code",
   "execution_count": 63,
   "metadata": {},
   "outputs": [],
   "source": [
    "model.compile(optimizer='Adam',\n",
    "              loss=tf.keras.losses.BinaryCrossentropy(from_logits=False),\n",
    "              metrics=['accuracy'])"
   ]
  },
  {
   "cell_type": "code",
   "execution_count": 64,
   "metadata": {},
   "outputs": [],
   "source": [
    "checkpoint_dir = './logs/masks/weights.hdf5'\n",
    "\n",
    "# Create a callback that saves the model's weights\n",
    "cp_callback = tf.keras.callbacks.ModelCheckpoint(filepath=checkpoint_dir,\n",
    "                                                 save_weights_only=True,\n",
    "                                                 monitor='val_loss',restore_best_weights=True,\n",
    "                                                 mode='auto',\n",
    "                                                 save_best_only=True)\n",
    "early = tf.keras.callbacks.EarlyStopping(\n",
    "    monitor=\"val_loss\",\n",
    "    min_delta=0,\n",
    "    patience=20,\n",
    "    verbose=0,\n",
    "    mode=\"auto\",\n",
    "    baseline=None,\n",
    "    restore_best_weights=True,\n",
    ")"
   ]
  },
  {
   "cell_type": "code",
   "execution_count": 65,
   "metadata": {
    "scrolled": false
   },
   "outputs": [
    {
     "name": "stdout",
     "output_type": "stream",
     "text": [
      "Epoch 1/100\n",
      "32/32 [==============================] - 5s 162ms/step - loss: 6.8446 - accuracy: 0.5265 - val_loss: 0.6779 - val_accuracy: 0.5521\n",
      "Epoch 2/100\n",
      "32/32 [==============================] - 0s 13ms/step - loss: 0.6897 - accuracy: 0.5516 - val_loss: 0.6789 - val_accuracy: 0.6215\n",
      "Epoch 3/100\n",
      "32/32 [==============================] - 0s 14ms/step - loss: 0.6872 - accuracy: 0.5445 - val_loss: 0.6711 - val_accuracy: 0.6111\n",
      "Epoch 4/100\n",
      "32/32 [==============================] - 0s 14ms/step - loss: 0.6774 - accuracy: 0.5916 - val_loss: 0.6613 - val_accuracy: 0.6285\n",
      "Epoch 5/100\n",
      "32/32 [==============================] - 0s 14ms/step - loss: 0.6702 - accuracy: 0.5836 - val_loss: 0.6578 - val_accuracy: 0.6354\n",
      "Epoch 6/100\n",
      "32/32 [==============================] - 0s 14ms/step - loss: 0.6802 - accuracy: 0.5646 - val_loss: 0.6570 - val_accuracy: 0.6354\n",
      "Epoch 7/100\n",
      "32/32 [==============================] - 0s 13ms/step - loss: 0.6640 - accuracy: 0.5976 - val_loss: 0.6634 - val_accuracy: 0.5903\n",
      "Epoch 8/100\n",
      "32/32 [==============================] - 0s 14ms/step - loss: 0.6567 - accuracy: 0.6146 - val_loss: 0.6501 - val_accuracy: 0.6146\n",
      "Epoch 9/100\n",
      "32/32 [==============================] - 0s 13ms/step - loss: 0.6610 - accuracy: 0.6076 - val_loss: 0.6595 - val_accuracy: 0.6181\n",
      "Epoch 10/100\n",
      "32/32 [==============================] - 0s 13ms/step - loss: 0.6521 - accuracy: 0.6156 - val_loss: 0.6514 - val_accuracy: 0.6493\n",
      "Epoch 11/100\n",
      "32/32 [==============================] - 0s 13ms/step - loss: 0.6538 - accuracy: 0.6116 - val_loss: 0.6502 - val_accuracy: 0.6354\n",
      "Epoch 12/100\n",
      "32/32 [==============================] - 0s 13ms/step - loss: 0.6512 - accuracy: 0.6366 - val_loss: 0.6726 - val_accuracy: 0.6007\n",
      "Epoch 13/100\n",
      "32/32 [==============================] - 0s 13ms/step - loss: 0.6571 - accuracy: 0.6216 - val_loss: 0.6718 - val_accuracy: 0.5833\n",
      "Epoch 14/100\n",
      "32/32 [==============================] - 0s 13ms/step - loss: 0.6419 - accuracy: 0.6216 - val_loss: 0.6506 - val_accuracy: 0.6458\n",
      "Epoch 15/100\n",
      "32/32 [==============================] - 0s 14ms/step - loss: 0.6451 - accuracy: 0.6256 - val_loss: 0.6469 - val_accuracy: 0.6389\n",
      "Epoch 16/100\n",
      "32/32 [==============================] - 0s 13ms/step - loss: 0.6540 - accuracy: 0.6136 - val_loss: 0.6471 - val_accuracy: 0.6354\n",
      "Epoch 17/100\n",
      "32/32 [==============================] - 0s 13ms/step - loss: 0.6394 - accuracy: 0.6296 - val_loss: 0.6534 - val_accuracy: 0.6389\n",
      "Epoch 18/100\n",
      "32/32 [==============================] - 0s 13ms/step - loss: 0.6370 - accuracy: 0.6446 - val_loss: 0.6587 - val_accuracy: 0.6250\n",
      "Epoch 19/100\n",
      "32/32 [==============================] - 0s 13ms/step - loss: 0.6569 - accuracy: 0.5986 - val_loss: 0.6547 - val_accuracy: 0.6389\n",
      "Epoch 20/100\n",
      "32/32 [==============================] - 0s 13ms/step - loss: 0.6379 - accuracy: 0.6406 - val_loss: 0.6559 - val_accuracy: 0.6493\n",
      "Epoch 21/100\n",
      "32/32 [==============================] - 0s 13ms/step - loss: 0.6529 - accuracy: 0.6166 - val_loss: 0.6496 - val_accuracy: 0.6424\n",
      "Epoch 22/100\n",
      "32/32 [==============================] - 0s 13ms/step - loss: 0.6361 - accuracy: 0.6356 - val_loss: 0.6435 - val_accuracy: 0.6701\n",
      "Epoch 23/100\n",
      "32/32 [==============================] - 0s 13ms/step - loss: 0.6338 - accuracy: 0.6517 - val_loss: 0.6731 - val_accuracy: 0.6424\n",
      "Epoch 24/100\n",
      "32/32 [==============================] - 0s 13ms/step - loss: 0.6453 - accuracy: 0.6211 - val_loss: 0.6485 - val_accuracy: 0.6458\n",
      "Epoch 25/100\n",
      "32/32 [==============================] - 0s 13ms/step - loss: 0.6264 - accuracy: 0.6436 - val_loss: 0.6516 - val_accuracy: 0.6458\n",
      "Epoch 26/100\n",
      "32/32 [==============================] - 0s 13ms/step - loss: 0.6196 - accuracy: 0.6657 - val_loss: 0.6440 - val_accuracy: 0.6632\n",
      "Epoch 27/100\n",
      "32/32 [==============================] - 0s 14ms/step - loss: 0.6182 - accuracy: 0.6707 - val_loss: 0.6287 - val_accuracy: 0.6736\n",
      "Epoch 28/100\n",
      "32/32 [==============================] - 0s 13ms/step - loss: 0.6318 - accuracy: 0.6326 - val_loss: 0.6354 - val_accuracy: 0.6597\n",
      "Epoch 29/100\n",
      "32/32 [==============================] - 0s 13ms/step - loss: 0.6225 - accuracy: 0.6597 - val_loss: 0.6645 - val_accuracy: 0.6215\n",
      "Epoch 30/100\n",
      "32/32 [==============================] - 0s 13ms/step - loss: 0.6146 - accuracy: 0.6697 - val_loss: 0.6484 - val_accuracy: 0.6562\n",
      "Epoch 31/100\n",
      "32/32 [==============================] - 0s 13ms/step - loss: 0.6303 - accuracy: 0.6366 - val_loss: 0.6533 - val_accuracy: 0.6354\n",
      "Epoch 32/100\n",
      "32/32 [==============================] - 0s 13ms/step - loss: 0.6296 - accuracy: 0.6406 - val_loss: 0.6613 - val_accuracy: 0.6319\n",
      "Epoch 33/100\n",
      "32/32 [==============================] - 0s 13ms/step - loss: 0.6053 - accuracy: 0.6687 - val_loss: 0.6535 - val_accuracy: 0.6424\n",
      "Epoch 34/100\n",
      "32/32 [==============================] - 0s 13ms/step - loss: 0.6072 - accuracy: 0.6727 - val_loss: 0.6635 - val_accuracy: 0.6424\n",
      "Epoch 35/100\n",
      "32/32 [==============================] - 0s 13ms/step - loss: 0.5962 - accuracy: 0.6957 - val_loss: 0.6524 - val_accuracy: 0.6597\n",
      "Epoch 36/100\n",
      "32/32 [==============================] - 0s 13ms/step - loss: 0.6054 - accuracy: 0.6797 - val_loss: 0.6806 - val_accuracy: 0.6389\n",
      "Epoch 37/100\n",
      "32/32 [==============================] - 0s 13ms/step - loss: 0.5942 - accuracy: 0.6657 - val_loss: 0.6660 - val_accuracy: 0.6528\n",
      "Epoch 38/100\n",
      "32/32 [==============================] - 0s 13ms/step - loss: 0.5984 - accuracy: 0.6827 - val_loss: 0.6603 - val_accuracy: 0.6319\n",
      "Epoch 39/100\n",
      "32/32 [==============================] - 0s 13ms/step - loss: 0.6053 - accuracy: 0.6897 - val_loss: 0.7249 - val_accuracy: 0.6354\n",
      "Epoch 40/100\n",
      "32/32 [==============================] - 0s 13ms/step - loss: 0.6027 - accuracy: 0.6767 - val_loss: 0.6495 - val_accuracy: 0.6597\n",
      "Epoch 41/100\n",
      "32/32 [==============================] - 0s 13ms/step - loss: 0.5961 - accuracy: 0.6787 - val_loss: 0.6390 - val_accuracy: 0.6493\n",
      "Epoch 42/100\n",
      "32/32 [==============================] - 0s 13ms/step - loss: 0.5775 - accuracy: 0.7017 - val_loss: 0.6790 - val_accuracy: 0.6285\n",
      "Epoch 43/100\n",
      "32/32 [==============================] - 0s 13ms/step - loss: 0.5747 - accuracy: 0.7037 - val_loss: 0.6743 - val_accuracy: 0.6285\n",
      "Epoch 44/100\n",
      "32/32 [==============================] - 0s 13ms/step - loss: 0.5693 - accuracy: 0.7077 - val_loss: 0.6600 - val_accuracy: 0.6285\n",
      "Epoch 45/100\n",
      "32/32 [==============================] - 0s 13ms/step - loss: 0.5590 - accuracy: 0.7107 - val_loss: 0.6895 - val_accuracy: 0.5903\n",
      "Epoch 46/100\n",
      "32/32 [==============================] - 0s 13ms/step - loss: 0.5781 - accuracy: 0.6967 - val_loss: 0.6818 - val_accuracy: 0.6146\n",
      "Epoch 47/100\n",
      "32/32 [==============================] - 0s 13ms/step - loss: 0.5605 - accuracy: 0.7097 - val_loss: 0.6929 - val_accuracy: 0.6458\n"
     ]
    }
   ],
   "source": [
    "history = model.fit_generator(generator=train_generator,steps_per_epoch=STEP_SIZE_TRAIN,\n",
    "                   validation_data=valid_generator,\n",
    "                   validation_steps=STEP_SIZE_VALID,\n",
    "                   epochs=100,callbacks=[cp_callback,early])"
   ]
  },
  {
   "cell_type": "code",
   "execution_count": 66,
   "metadata": {},
   "outputs": [
    {
     "data": {
      "image/png": "[encoded data removed]",
      "text/plain": [
       "<Figure size 432x288 with 1 Axes>"
      ]
     },
     "metadata": {
      "needs_background": "light"
     },
     "output_type": "display_data"
    }
   ],
   "source": [
    "plt.plot(history.history['loss'], label='accuracy')\n",
    "plt.plot(history.history['val_loss'], label='val_accuracy')\n",
    "plt.xlabel('Epoch')\n",
    "plt.ylabel('Accuracy')\n",
    "plt.ylim([0.4, 1])\n",
    "plt.legend(loc='lower right')\n",
    "#plt.savefig('../figures/morphology_train.png')\n",
    "plt.show()"
   ]
  },
  {
   "cell_type": "code",
   "execution_count": 67,
   "metadata": {},
   "outputs": [
    {
     "data": {
      "image/png": "[encoded data removed]",
      "text/plain": [
       "<Figure size 467.945x202.444 with 2 Axes>"
      ]
     },
     "metadata": {
      "needs_background": "light"
     },
     "output_type": "display_data"
    }
   ],
   "source": [
    "fig, (ax1, ax2) = plt.subplots(1, 2,figsize=set_size(469.7,fraction=1,hratio=1.4,subplots=(1,2)))\n",
    "plt.rcParams[\"font.family\"] = \"Arial\"\n",
    "plt.rc('font', size=12)\n",
    "#fig.suptitle('Horizontally stacked subplots')\n",
    "\n",
    "ax1.plot(history.history['loss'],label='train')\n",
    "ax1.plot(history.history['val_loss'],label='validation')\n",
    "\n",
    "ax2.plot(history.history['accuracy'],label='train')\n",
    "ax2.plot(history.history['val_accuracy'],label='validation')\n",
    "\n",
    "ax1.set_xlabel('epoch')\n",
    "ax2.set_xlabel('epoch')\n",
    "\n",
    "ax1.set_ylabel('Loss')\n",
    "ax2.set_ylabel('Accuracy')\n",
    "\n",
    "ax1.set_ylim(.3,1)\n",
    "ax1.legend(loc='lower left',fontsize=6)\n",
    "ax2.legend(loc='best',fontsize=6)\n",
    "\n",
    "plt.tight_layout()\n",
    "plt.show()\n",
    "#plt.savefig('loss_acc_curves')"
   ]
  },
  {
   "cell_type": "code",
   "execution_count": 72,
   "metadata": {},
   "outputs": [],
   "source": [
    "with open('./trainHistoryDict', 'wb') as file_pi:\n",
    "    pickle.dump(history.history, file_pi)"
   ]
  },
  {
   "cell_type": "code",
   "execution_count": 68,
   "metadata": {},
   "outputs": [
    {
     "name": "stdout",
     "output_type": "stream",
     "text": [
      "149/149 [==============================] - 0s 2ms/step - loss: 0.6529 - accuracy: 0.6510\n"
     ]
    },
    {
     "data": {
      "text/plain": [
       "[0.6529419422149658, 0.6510066986083984]"
      ]
     },
     "execution_count": 68,
     "metadata": {},
     "output_type": "execute_result"
    }
   ],
   "source": [
    "model.evaluate(test_generator)"
   ]
  },
  {
   "cell_type": "code",
   "execution_count": 73,
   "metadata": {},
   "outputs": [],
   "source": [
    "with open('./trainHistoryDict', 'rb') as f:\n",
    "    h = pickle.load(f)"
   ]
  },
  {
   "cell_type": "code",
   "execution_count": 75,
   "metadata": {},
   "outputs": [
    {
     "data": {
      "text/plain": [
       "{'loss': [6.844611167907715,\n",
       "  0.6897252202033997,\n",
       "  0.6871748566627502,\n",
       "  0.6773698925971985,\n",
       "  0.670177161693573,\n",
       "  0.6801778674125671,\n",
       "  0.6639842391014099,\n",
       "  0.6566519737243652,\n",
       "  0.6609659790992737,\n",
       "  0.6521216034889221,\n",
       "  0.653810977935791,\n",
       "  0.6512285470962524,\n",
       "  0.6571338772773743,\n",
       "  0.6418606042861938,\n",
       "  0.6450730562210083,\n",
       "  0.6539749503135681,\n",
       "  0.6394466161727905,\n",
       "  0.6369600296020508,\n",
       "  0.6568900942802429,\n",
       "  0.6378927826881409,\n",
       "  0.6529277563095093,\n",
       "  0.6360589861869812,\n",
       "  0.6337795853614807,\n",
       "  0.6452659964561462,\n",
       "  0.6263821125030518,\n",
       "  0.6196469664573669,\n",
       "  0.6182311177253723,\n",
       "  0.63177090883255,\n",
       "  0.6224583387374878,\n",
       "  0.6145682334899902,\n",
       "  0.6303068399429321,\n",
       "  0.6295775771141052,\n",
       "  0.6052754521369934,\n",
       "  0.6072174906730652,\n",
       "  0.5961664319038391,\n",
       "  0.6053797006607056,\n",
       "  0.5941803455352783,\n",
       "  0.598444938659668,\n",
       "  0.6052913665771484,\n",
       "  0.6026567220687866,\n",
       "  0.596120297908783,\n",
       "  0.5775132775306702,\n",
       "  0.5746651887893677,\n",
       "  0.5693286061286926,\n",
       "  0.558952271938324,\n",
       "  0.5780717730522156,\n",
       "  0.5604884028434753],\n",
       " 'accuracy': [0.5265265107154846,\n",
       "  0.5515515804290771,\n",
       "  0.544544517993927,\n",
       "  0.5915915966033936,\n",
       "  0.5835835933685303,\n",
       "  0.56456458568573,\n",
       "  0.597597599029541,\n",
       "  0.6146146059036255,\n",
       "  0.6076076030731201,\n",
       "  0.6156156063079834,\n",
       "  0.6116116046905518,\n",
       "  0.6366366147994995,\n",
       "  0.6216216087341309,\n",
       "  0.6216216087341309,\n",
       "  0.6256256103515625,\n",
       "  0.6136136054992676,\n",
       "  0.6296296119689941,\n",
       "  0.6446446180343628,\n",
       "  0.5985985994338989,\n",
       "  0.6406406164169312,\n",
       "  0.6166166067123413,\n",
       "  0.6356356143951416,\n",
       "  0.6516516804695129,\n",
       "  0.62109375,\n",
       "  0.6436436176300049,\n",
       "  0.6656656861305237,\n",
       "  0.6706706881523132,\n",
       "  0.6326326131820679,\n",
       "  0.6596596837043762,\n",
       "  0.6696696877479553,\n",
       "  0.6366366147994995,\n",
       "  0.6406406164169312,\n",
       "  0.6686686873435974,\n",
       "  0.672672688961029,\n",
       "  0.695695698261261,\n",
       "  0.6796796917915344,\n",
       "  0.6656656861305237,\n",
       "  0.6826826930046082,\n",
       "  0.6896896958351135,\n",
       "  0.6766766905784607,\n",
       "  0.6786786913871765,\n",
       "  0.7017017006874084,\n",
       "  0.7037037014961243,\n",
       "  0.7077077031135559,\n",
       "  0.7107107043266296,\n",
       "  0.6966966986656189,\n",
       "  0.7097097039222717],\n",
       " 'val_loss': [0.6779167056083679,\n",
       "  0.6788685917854309,\n",
       "  0.671057939529419,\n",
       "  0.6612944006919861,\n",
       "  0.6577529907226562,\n",
       "  0.6570416688919067,\n",
       "  0.6633991599082947,\n",
       "  0.6501303911209106,\n",
       "  0.6595370173454285,\n",
       "  0.6514165997505188,\n",
       "  0.6501662731170654,\n",
       "  0.6726181507110596,\n",
       "  0.6717846393585205,\n",
       "  0.6505934596061707,\n",
       "  0.646862804889679,\n",
       "  0.6471102237701416,\n",
       "  0.6533555388450623,\n",
       "  0.6587492227554321,\n",
       "  0.6547178030014038,\n",
       "  0.6559220552444458,\n",
       "  0.6496299505233765,\n",
       "  0.6434999108314514,\n",
       "  0.673136830329895,\n",
       "  0.6485095620155334,\n",
       "  0.6515944004058838,\n",
       "  0.6439999938011169,\n",
       "  0.6286842226982117,\n",
       "  0.6354272961616516,\n",
       "  0.6644718050956726,\n",
       "  0.6484023332595825,\n",
       "  0.6532819271087646,\n",
       "  0.6612790822982788,\n",
       "  0.6534572243690491,\n",
       "  0.6635355949401855,\n",
       "  0.6524346470832825,\n",
       "  0.6805527806282043,\n",
       "  0.6660006642341614,\n",
       "  0.6603359580039978,\n",
       "  0.7249017357826233,\n",
       "  0.6495159268379211,\n",
       "  0.639005720615387,\n",
       "  0.6789889335632324,\n",
       "  0.6742871999740601,\n",
       "  0.6600270867347717,\n",
       "  0.6895406246185303,\n",
       "  0.6817755699157715,\n",
       "  0.692865788936615],\n",
       " 'val_accuracy': [0.5520833134651184,\n",
       "  0.6215277910232544,\n",
       "  0.6111111044883728,\n",
       "  0.6284722089767456,\n",
       "  0.6354166865348816,\n",
       "  0.6354166865348816,\n",
       "  0.5902777910232544,\n",
       "  0.6145833134651184,\n",
       "  0.6180555820465088,\n",
       "  0.6493055820465088,\n",
       "  0.6354166865348816,\n",
       "  0.6006944179534912,\n",
       "  0.5833333134651184,\n",
       "  0.6458333134651184,\n",
       "  0.6388888955116272,\n",
       "  0.6354166865348816,\n",
       "  0.6388888955116272,\n",
       "  0.625,\n",
       "  0.6388888955116272,\n",
       "  0.6493055820465088,\n",
       "  0.6423611044883728,\n",
       "  0.6701388955116272,\n",
       "  0.6423611044883728,\n",
       "  0.6458333134651184,\n",
       "  0.6458333134651184,\n",
       "  0.6631944179534912,\n",
       "  0.6736111044883728,\n",
       "  0.6597222089767456,\n",
       "  0.6215277910232544,\n",
       "  0.65625,\n",
       "  0.6354166865348816,\n",
       "  0.6319444179534912,\n",
       "  0.6423611044883728,\n",
       "  0.6423611044883728,\n",
       "  0.6597222089767456,\n",
       "  0.6388888955116272,\n",
       "  0.6527777910232544,\n",
       "  0.6319444179534912,\n",
       "  0.6354166865348816,\n",
       "  0.6597222089767456,\n",
       "  0.6493055820465088,\n",
       "  0.6284722089767456,\n",
       "  0.6284722089767456,\n",
       "  0.6284722089767456,\n",
       "  0.5902777910232544,\n",
       "  0.6145833134651184,\n",
       "  0.6458333134651184]}"
      ]
     },
     "execution_count": 75,
     "metadata": {},
     "output_type": "execute_result"
    }
   ],
   "source": [
    "h"
   ]
  },
  {
   "cell_type": "code",
   "execution_count": 76,
   "metadata": {},
   "outputs": [
    {
     "data": {
      "image/png": "[encoded data removed]",
      "text/plain": [
       "<Figure size 467.945x202.444 with 2 Axes>"
      ]
     },
     "metadata": {
      "needs_background": "light"
     },
     "output_type": "display_data"
    }
   ],
   "source": [
    "fig, (ax1, ax2) = plt.subplots(1, 2,figsize=set_size(469.7,fraction=1,hratio=1.4,subplots=(1,2)))\n",
    "plt.rcParams[\"font.family\"] = \"Arial\"\n",
    "plt.rc('font', size=12)\n",
    "#fig.suptitle('Horizontally stacked subplots')\n",
    "\n",
    "ax1.plot(h['loss'],label='train')\n",
    "ax1.plot(h['val_loss'],label='validation')\n",
    "\n",
    "\n",
    "plt.tight_layout()\n",
    "plt.show()"
   ]
  },
  {
   "cell_type": "code",
   "execution_count": 2,
   "metadata": {},
   "outputs": [
    {
     "data": {
      "image/png": "[encoded data removed]",
      "text/plain": [
       "<Figure size 467.945x202.444 with 2 Axes>"
      ]
     },
     "metadata": {
      "needs_background": "light"
     },
     "output_type": "display_data"
    }
   ],
   "source": [
    "morph_cnn_plot(save=True)"
   ]
  },
  {
   "cell_type": "code",
   "execution_count": null,
   "metadata": {},
   "outputs": [],
   "source": []
  }
 ],
 "metadata": {
  "kernelspec": {
   "display_name": "Python [conda env:aktwelve]",
   "language": "python",
   "name": "conda-env-aktwelve-py"
  },
  "language_info": {
   "codemirror_mode": {
    "name": "ipython",
    "version": 3
   },
   "file_extension": ".py",
   "mimetype": "text/x-python",
   "name": "python",
   "nbconvert_exporter": "python",
   "pygments_lexer": "ipython3",
   "version": "3.7.9"
  }
 },
 "nbformat": 4,
 "nbformat_minor": 2
}
