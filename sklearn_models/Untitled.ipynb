{
 "cells": [
  {
   "cell_type": "code",
   "execution_count": null,
   "metadata": {},
   "outputs": [],
   "source": []
  }
 ],
 "metadata": {
  "kernelspec": {
   "display_name": "figure4",
   "language": "python",
   "name": "figure4"
  }
 },
 "nbformat": 4,
 "nbformat_minor": 2
}
